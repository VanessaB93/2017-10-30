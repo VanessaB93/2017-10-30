{
 "cells": [
  {
   "cell_type": "markdown",
   "metadata": {},
   "source": [
    "WORKSHOP 2\n",
    "==========\n",
    "Libreria BILLY beige, IKEA "
   ]
  },
  {
   "cell_type": "code",
   "execution_count": 20,
   "metadata": {},
   "outputs": [],
   "source": [
    "from larlib import*"
   ]
  },
  {
   "cell_type": "code",
   "execution_count": 24,
   "metadata": {},
   "outputs": [],
   "source": [
    "base=CUBOID([0.79,0.26,0.06])\n",
    "parete_destra=T([1,2])([-0.01,-0.02])(CUBOID([0.01,0.28,2.02]))\n",
    "parete_sinistra=T([1,2])([0.79,-0.02])(CUBOID([0.01,0.28,2.02]))\n",
    "ripiani=T(3)(0.06)(CUBOID([0.79,0.26,0.015]))\n",
    "scaffali=STRUCT(NN(7)([ripiani,T(3)(0.324)]))\n",
    "parete_dietro=T([2,3])([0.26,0.06])(CUBOID([0.8,0.015,1.96]))\n",
    "base_anta=T([1,2,3])([0.009,-0.02,0.06])(CUBOID([0.362,0.015,0.019]))\n",
    "anta_orizzontale=STRUCT(NN(3)([base_anta,T(3)(0.97)]))\n",
    "anteb=STRUCT(NN(2)([anta_orizzontale,T(1)(0.4)]))\n",
    "altezza_anta=T([1,2,3])([-0.01,-0.02,0.06])(CUBOID([0.019,0.015,1.96]))\n",
    "anta_verticale=STRUCT(NN(2)([altezza_anta,T(1)(0.381)]))\n",
    "ante=STRUCT(NN(2)([anta_verticale,T(1)(0.40)]))\n",
    "pomello=R([3,2])(PI/2)(CYLINDER([0.005,0.01])(20))\n",
    "pomello1=T([1,2,3])([0.38,-0.03,0.98])(pomello)\n",
    "pomelli=STRUCT(NN(2)([pomello1,T(1)(0.02)]))\n",
    "### dopo aver fatto le varie parti, assemblo la parte singola\n",
    "libreria1=STRUCT([anteb,ante,pomelli,base,parete_destra,parete_sinistra,scaffali,anta_orizzontale,parete_dietro])\n",
    "### adesso duplico la parte e la coloro\n",
    "libreria=STRUCT(NN(2)([COLOR([1.17,1.04,0.92])(libreria1),T(1)(0.8)]))\n"
   ]
  },
  {
   "cell_type": "code",
   "execution_count": 25,
   "metadata": {},
   "outputs": [
    {
     "data": {
      "text/plain": [
       "<pyplasm.xgepy.Hpc; proxy of <Swig Object of type 'std::shared_ptr< Hpc > *' at 0x00000133C8C83690> >"
      ]
     },
     "execution_count": 25,
     "metadata": {},
     "output_type": "execute_result"
    }
   ],
   "source": [
    "VIEW(libreria1)"
   ]
  },
  {
   "cell_type": "code",
   "execution_count": 26,
   "metadata": {},
   "outputs": [
    {
     "data": {
      "text/plain": [
       "<pyplasm.xgepy.Hpc; proxy of <Swig Object of type 'std::shared_ptr< Hpc > *' at 0x00000133C8C839C0> >"
      ]
     },
     "execution_count": 26,
     "metadata": {},
     "output_type": "execute_result"
    }
   ],
   "source": [
    "VIEW(libreria)"
   ]
  }
 ],
 "metadata": {
  "kernelspec": {
   "display_name": "Python 3",
   "language": "python",
   "name": "python3"
  },
  "language_info": {
   "codemirror_mode": {
    "name": "ipython",
    "version": 3
   },
   "file_extension": ".py",
   "mimetype": "text/x-python",
   "name": "python",
   "nbconvert_exporter": "python",
   "pygments_lexer": "ipython3",
   "version": "3.6.3"
  }
 },
 "nbformat": 4,
 "nbformat_minor": 2
}
